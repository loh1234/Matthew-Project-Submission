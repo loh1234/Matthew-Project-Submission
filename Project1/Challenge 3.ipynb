{
 "cells": [
  {
   "cell_type": "code",
   "execution_count": 2,
   "metadata": {},
   "outputs": [],
   "source": [
    "#Step 1: Generate list of numbers between 0 to 1000 that are multiples of 3 & 5. \n",
    "number_list = [] # Create Empty List to Fill with Numbers\n",
    "for num in range(0,1000):\n",
    "    if (num%3==0):\n",
    "        number_list.append(num)\n",
    "    if(num%5==0):\n",
    "        number_list.append(num)\n",
    "\n",
    "new_number_list = list(set(number_list))"
   ]
  },
  {
   "cell_type": "code",
   "execution_count": 3,
   "metadata": {},
   "outputs": [
    {
     "data": {
      "text/plain": [
       "233168"
      ]
     },
     "execution_count": 3,
     "metadata": {},
     "output_type": "execute_result"
    }
   ],
   "source": [
    "#Step 2: Sum the list of numbers\n",
    "sum((new_number_list))"
   ]
  },
  {
   "cell_type": "code",
   "execution_count": null,
   "metadata": {},
   "outputs": [],
   "source": []
  }
 ],
 "metadata": {
  "kernelspec": {
   "display_name": "Python 3",
   "language": "python",
   "name": "python3"
  },
  "language_info": {
   "codemirror_mode": {
    "name": "ipython",
    "version": 3
   },
   "file_extension": ".py",
   "mimetype": "text/x-python",
   "name": "python",
   "nbconvert_exporter": "python",
   "pygments_lexer": "ipython3",
   "version": "3.6.4"
  }
 },
 "nbformat": 4,
 "nbformat_minor": 2
}
