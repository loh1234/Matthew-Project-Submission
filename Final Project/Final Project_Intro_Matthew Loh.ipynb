{
 "cells": [
  {
   "cell_type": "markdown",
   "metadata": {},
   "source": [
    "# Project Title : Traffic Data in Maryland County"
   ]
  },
  {
   "cell_type": "markdown",
   "metadata": {},
   "source": [
    "## Problem Statement\n",
    "\n",
    "A high proportion of traffic violations lead to traffic accidents. \n",
    "\n",
    "We need to identify the driver behavior and profile which lead to accidents and develop mitigation measures to reduce them. Mitigation measures could include higher insurance premiums, increased enforcement etc."
   ]
  },
  {
   "cell_type": "markdown",
   "metadata": {},
   "source": [
    "## Hypothesis/Assumptions\n",
    "\n",
    "1. Traffic violations are a small subset of inappropriate driver behavior; they must be caught by the police before entering the database!\n",
    "\n",
    "2. We assume all accidents involve traffic violations., and human error is the sole cause of these accidents (i.e. NOT machine failure or act of God). \n",
    "\n",
    "3. There is a certain type of driver profile and driver behavior that are likely to lead to traffic violations and subsequently traffic accidents.   \n",
    "\n",
    "**Null Hypothesis : There is a correlation between a certain driver profile/behavior and traffic violations.**\n",
    "\n",
    "**Alternative Hypothesis : There is no correlation between a certain driver profile/behavior and traffic violations.**"
   ]
  },
  {
   "cell_type": "markdown",
   "metadata": {},
   "source": [
    "## Goal/Success Metrics\n",
    "\n",
    "1. The features within the raw dataset needs to be futher broken down to provide a clear distinction between different sorts of driver behavior and profile. \n",
    "\n",
    "2. A classification model will be created for driver behavior and risk profile to see whether they correlate to traffic accidents. "
   ]
  },
  {
   "cell_type": "markdown",
   "metadata": {},
   "source": [
    "## Risk/Limitations\n",
    "\n",
    "1. The assumption that all traffic accidents are caused by traffic violations may not hold true. \n",
    "\n",
    "2. There is already a sampling bias introduced when data is obtained from a local county police database.  "
   ]
  },
  {
   "cell_type": "markdown",
   "metadata": {},
   "source": [
    "## Datasets Required\n",
    "\n",
    "Kaggle’s Maryland Traffic Violation Data set. We will use this dataset to generalize traffic violations worldwide. \n",
    "\n",
    "Features available to create the model:\n",
    "\n",
    "1.\tDriver Behavior\n",
    "‘Description’ Column – Filter out the top 4 at-risk behavior and create dummy variables.\n",
    "\n",
    "2.\tDriver Profile\n",
    "‘Gender’ Column\n",
    "‘Vehicle Make’ Column\n",
    "‘Vehicle Colour’ Column \n",
    "'Race' Column"
   ]
  }
 ],
 "metadata": {
  "kernelspec": {
   "display_name": "Python 3",
   "language": "python",
   "name": "python3"
  },
  "language_info": {
   "codemirror_mode": {
    "name": "ipython",
    "version": 3
   },
   "file_extension": ".py",
   "mimetype": "text/x-python",
   "name": "python",
   "nbconvert_exporter": "python",
   "pygments_lexer": "ipython3",
   "version": "3.6.4"
  }
 },
 "nbformat": 4,
 "nbformat_minor": 2
}
